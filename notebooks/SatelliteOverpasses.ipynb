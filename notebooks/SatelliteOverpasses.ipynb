{
 "cells": [
  {
   "cell_type": "markdown",
   "metadata": {},
   "source": [
    "# Notebook to calculate satellite overpasses for an AOI and date range"
   ]
  },
  {
   "cell_type": "code",
   "execution_count": 1,
   "metadata": {
    "tags": []
   },
   "outputs": [
    {
     "output_type": "stream",
     "name": "stdout",
     "text": "Collecting skyfield\n  Downloading skyfield-1.26.tar.gz (289 kB)\nRequirement already satisfied: certifi>=2017.4.17 in c:\\users\\bra467\\appdata\\local\\continuum\\miniconda3\\envs\\roampy-dev\\lib\\site-packages (from skyfield) (2020.6.20)\nCollecting jplephem>=2.13\n  Downloading jplephem-2.15.tar.gz (40 kB)\nRequirement already satisfied: numpy in c:\\users\\bra467\\appdata\\local\\continuum\\miniconda3\\envs\\roampy-dev\\lib\\site-packages (from skyfield) (1.18.1)\nCollecting sgp4>=2.2\n  Downloading sgp4-2.12-cp37-cp37m-win_amd64.whl (143 kB)\nBuilding wheels for collected packages: skyfield, jplephem\n  Building wheel for skyfield (setup.py): started\n  Building wheel for skyfield (setup.py): finished with status 'done'\n  Created wheel for skyfield: filename=skyfield-1.26-py3-none-any.whl size=327095 sha256=f6b6fb59b7f4cb925b18f4bf07960f751d6fdfedca8f27cae7121e3a82bbc3ca\n  Stored in directory: c:\\users\\bra467\\appdata\\local\\pip\\cache\\wheels\\1f\\4c\\62\\f2b69f8727cf9097c319cf17375def63bc13e539a4659549c9\n  Building wheel for jplephem (setup.py): started\n  Building wheel for jplephem (setup.py): finished with status 'done'\n  Created wheel for jplephem: filename=jplephem-2.15-py3-none-any.whl size=46024 sha256=0465f6a5c712cff9d0ae222dfe722ebdc7ba75a965776438a22c215430b0d6ca\n  Stored in directory: c:\\users\\bra467\\appdata\\local\\pip\\cache\\wheels\\61\\c7\\45\\352389757a3b6c9ddfe03bcb599bca17b42dcc99d2a1db3a0c\nSuccessfully built skyfield jplephem\nInstalling collected packages: jplephem, sgp4, skyfield\nSuccessfully installed jplephem-2.15 sgp4-2.12 skyfield-1.26\n"
    }
   ],
   "source": [
    "!pip install skyfield"
   ]
  },
  {
   "cell_type": "code",
   "execution_count": 1,
   "metadata": {
    "tags": []
   },
   "outputs": [
    {
     "output_type": "stream",
     "name": "stdout",
     "text": "Loaded 2956 satellites\n"
    }
   ],
   "source": [
    "from skyfield.api import Topos, load\n",
    "import datetime"
   ]
  },
  {
   "cell_type": "code",
   "execution_count": 42,
   "metadata": {
    "tags": []
   },
   "outputs": [
    {
     "output_type": "stream",
     "name": "stdout",
     "text": "Loaded 2956 satellites\n"
    }
   ],
   "source": [
    "stations_url = 'http://celestrak.com/NORAD/elements/active.txt'\n",
    "satellites = load.tle_file(stations_url)\n",
    "print('Loaded', len(satellites), 'satellites')"
   ]
  },
  {
   "source": [
    "### Query the list of satellites for platforms of interest"
   ],
   "cell_type": "markdown",
   "metadata": {}
  },
  {
   "cell_type": "code",
   "execution_count": 49,
   "metadata": {},
   "outputs": [
    {
     "output_type": "execute_result",
     "data": {
      "text/plain": "{'SENTINEL-2A': <EarthSatellite 'SENTINEL-2A' number=40697 epoch=2020-09-04T01:47:34Z>,\n 'SENTINEL-2B': <EarthSatellite 'SENTINEL-2B' number=42063 epoch=2020-09-04T02:37:53Z>,\n 'SENTINEL-3A': <EarthSatellite 'SENTINEL-3A' number=41335 epoch=2020-09-04T02:45:38Z>,\n 'SENTINEL-3B': <EarthSatellite 'SENTINEL-3B' number=43437 epoch=2020-09-03T19:22:19Z>,\n 'WORLDVIEW-2 (WV-2)': <EarthSatellite 'WORLDVIEW-2 (WV-2)' number=35946 epoch=2020-09-04T01:20:33Z>,\n 'ICESAT-2': <EarthSatellite 'ICESAT-2' number=43613 epoch=2020-09-03T20:54:16Z>,\n 'PLEIADES 1A': <EarthSatellite 'PLEIADES 1A' number=38012 epoch=2020-09-04T01:50:58Z>,\n 'PLEIADES 1B': <EarthSatellite 'PLEIADES 1B' number=39019 epoch=2020-09-02T17:44:40Z>,\n 'SPOT 6': <EarthSatellite 'SPOT 6' number=38755 epoch=2020-09-04T03:50:42Z>,\n 'SPOT 7': <EarthSatellite 'SPOT 7' number=40053 epoch=2020-09-04T04:41:37Z>,\n 'GEOEYE 1': <EarthSatellite 'GEOEYE 1' number=33331 epoch=2020-09-04T02:44:34Z>}"
     },
     "metadata": {},
     "execution_count": 49
    }
   ],
   "source": [
    "query = ['SENTINEL-2','SENTINEL-3','WORLDVIEW-2','LANDSAT-8','ICESAT-2','PLEIADES 1','SPOT','GEOEYE']\n",
    "by_name = {sat.name: sat for sat in satellites}\n",
    "results = [{k:v for k,v in by_name.items() if k.startswith(p)} for p in query]\n",
    "platform_sats = {}\n",
    "for d in results:\n",
    "    platform_sats.update(d)\n",
    "platform_sats"
   ]
  },
  {
   "cell_type": "code",
   "execution_count": 50,
   "metadata": {},
   "outputs": [],
   "source": [
    "aquisition_angle = {'WORLDVIEW-2':26,'SPOT':26,'PLEIADES':26}"
   ]
  },
  {
   "cell_type": "code",
   "execution_count": 51,
   "metadata": {},
   "outputs": [],
   "source": [
    "ts = load.timescale()\n",
    "utc_offset = 8\n",
    "jurien = Topos('30.316650 S', '115.015349 W')\n",
    "t0 = ts.utc(2020, 10, 1)\n",
    "t1 = ts.utc(2020, 10, 30)"
   ]
  },
  {
   "cell_type": "code",
   "execution_count": 52,
   "metadata": {
    "tags": []
   },
   "outputs": [
    {
     "output_type": "stream",
     "name": "stdout",
     "text": "2020-10-01 13:58:59 +8 SENTINEL-3A rise above 85°\n2020-10-01 13:59:07 +8 SENTINEL-3A culminate\n2020-10-01 13:59:21 +8 SENTINEL-3A set below 85°\n2020-10-01 14:01:47 +8 SPOT 6 rise above 64°\n2020-10-01 14:02:30 +8 SPOT 6 culminate\n2020-10-01 14:03:12 +8 SPOT 6 set below 64°\n2020-10-01 14:17:32 +8 WORLDVIEW-2 (WV-2) rise above 64°\n2020-10-01 14:18:15 +8 WORLDVIEW-2 (WV-2) culminate\n2020-10-01 14:18:59 +8 WORLDVIEW-2 (WV-2) set below 64°\n2020-10-01 14:30:42 +8 PLEIADES 1B rise above 64°\n2020-10-01 14:30:49 +8 SENTINEL-2A rise above 85°\n2020-10-01 14:30:58 +8 SENTINEL-2A culminate\n2020-10-01 14:31:08 +8 SENTINEL-2A set below 85°\n2020-10-01 14:31:27 +8 PLEIADES 1B culminate\n2020-10-01 14:32:13 +8 PLEIADES 1B set below 64°\n2020-10-02 13:55:59 +8 SPOT 7 rise above 64°\n2020-10-02 13:56:43 +8 SPOT 7 culminate\n2020-10-02 13:57:27 +8 SPOT 7 set below 64°\n2020-10-02 14:23:21 +8 PLEIADES 1A rise above 64°\n2020-10-02 14:23:59 +8 PLEIADES 1A culminate\n2020-10-02 14:24:38 +8 PLEIADES 1A set below 64°\n2020-10-03 13:47:03 +8 SPOT 6 rise above 64°\n2020-10-03 13:47:28 +8 SPOT 6 culminate\n2020-10-03 13:47:53 +8 SPOT 6 set below 64°\n2020-10-06 14:30:49 +8 SENTINEL-2B rise above 85°\n2020-10-06 14:30:57 +8 SENTINEL-2B culminate\n2020-10-06 14:31:06 +8 SENTINEL-2B set below 85°\n2020-10-06 14:33:14 +8 WORLDVIEW-2 (WV-2) rise above 64°\n2020-10-06 14:33:53 +8 WORLDVIEW-2 (WV-2) culminate\n2020-10-06 14:34:33 +8 WORLDVIEW-2 (WV-2) set below 64°\n2020-10-06 14:42:25 +8 PLEIADES 1B rise above 64°\n2020-10-06 14:42:43 +8 PLEIADES 1B culminate\n2020-10-06 14:43:01 +8 PLEIADES 1B set below 64°\n2020-10-07 14:07:20 +8 SPOT 7 rise above 64°\n2020-10-07 14:07:56 +8 SPOT 7 culminate\n2020-10-07 14:08:32 +8 SPOT 7 set below 64°\n2020-10-07 14:34:34 +8 PLEIADES 1A rise above 64°\n2020-10-07 14:35:16 +8 PLEIADES 1A culminate\n2020-10-07 14:35:58 +8 PLEIADES 1A set below 64°\n2020-10-08 13:57:54 +8 SPOT 6 rise above 64°\n2020-10-08 13:58:39 +8 SPOT 6 culminate\n2020-10-08 13:59:25 +8 SPOT 6 set below 64°\n2020-10-08 14:27:00 +8 PLEIADES 1B rise above 64°\n2020-10-08 14:27:43 +8 PLEIADES 1B culminate\n2020-10-08 14:28:28 +8 PLEIADES 1B set below 64°\n2020-10-09 13:52:18 +8 SPOT 7 rise above 64°\n2020-10-09 13:52:55 +8 SPOT 7 culminate\n2020-10-09 13:53:33 +8 SPOT 7 set below 64°\n2020-10-09 14:19:50 +8 PLEIADES 1A rise above 64°\n2020-10-09 14:20:16 +8 PLEIADES 1A culminate\n2020-10-09 14:20:43 +8 PLEIADES 1A set below 64°\n2020-10-09 14:22:41 +8 WORLDVIEW-2 (WV-2) rise above 64°\n2020-10-09 14:23:30 +8 WORLDVIEW-2 (WV-2) culminate\n2020-10-09 14:24:19 +8 WORLDVIEW-2 (WV-2) set below 64°\n2020-10-11 14:00:32 +8 SENTINEL-3B rise above 85°\n2020-10-11 14:00:41 +8 SENTINEL-3B culminate\n2020-10-11 14:00:51 +8 SENTINEL-3B set below 85°\n2020-10-11 14:30:49 +8 SENTINEL-2A rise above 85°\n2020-10-11 14:30:56 +8 SENTINEL-2A culminate\n2020-10-11 14:31:05 +8 SENTINEL-2A set below 85°\n2020-10-12 14:12:43 +8 WORLDVIEW-2 (WV-2) rise above 64°\n2020-10-12 14:13:06 +8 WORLDVIEW-2 (WV-2) culminate\n2020-10-12 14:13:30 +8 WORLDVIEW-2 (WV-2) set below 64°\n2020-10-13 14:09:32 +8 SPOT 6 rise above 64°\n2020-10-13 14:09:50 +8 SPOT 6 culminate\n2020-10-13 14:10:08 +8 SPOT 6 set below 64°\n2020-10-13 14:38:24 +8 PLEIADES 1B rise above 64°\n2020-10-13 14:38:59 +8 PLEIADES 1B culminate\n2020-10-13 14:39:34 +8 PLEIADES 1B set below 64°\n2020-10-14 14:03:27 +8 SPOT 7 rise above 64°\n2020-10-14 14:04:09 +8 SPOT 7 culminate\n2020-10-14 14:04:52 +8 SPOT 7 set below 64°\n2020-10-14 14:30:49 +8 PLEIADES 1A rise above 64°\n2020-10-14 14:31:33 +8 PLEIADES 1A culminate\n2020-10-14 14:32:19 +8 PLEIADES 1A set below 64°\n2020-10-14 14:38:55 +8 WORLDVIEW-2 (WV-2) rise above 64°\n2020-10-14 14:39:07 +8 WORLDVIEW-2 (WV-2) culminate\n2020-10-14 14:39:20 +8 WORLDVIEW-2 (WV-2) set below 64°\n2020-10-15 13:54:06 +8 SPOT 6 rise above 64°\n2020-10-15 13:54:49 +8 SPOT 6 culminate\n2020-10-15 13:55:34 +8 SPOT 6 set below 64°\n2020-10-15 14:23:22 +8 PLEIADES 1B rise above 64°\n2020-10-15 14:24:00 +8 PLEIADES 1B culminate\n2020-10-15 14:24:38 +8 PLEIADES 1B set below 64°\n2020-10-16 13:48:43 +8 SPOT 7 rise above 64°\n2020-10-16 13:49:08 +8 SPOT 7 culminate\n2020-10-16 13:49:33 +8 SPOT 7 set below 64°\n2020-10-16 14:28:50 +8 GEOEYE 1 rise above 85°\n2020-10-16 14:28:58 +8 GEOEYE 1 culminate\n2020-10-16 14:29:06 +8 GEOEYE 1 set below 85°\n2020-10-16 14:30:47 +8 SENTINEL-2B rise above 85°\n2020-10-16 14:30:56 +8 SENTINEL-2B culminate\n2020-10-16 14:31:05 +8 SENTINEL-2B set below 85°\n2020-10-17 14:27:57 +8 WORLDVIEW-2 (WV-2) rise above 64°\n2020-10-17 14:28:44 +8 WORLDVIEW-2 (WV-2) culminate\n2020-10-17 14:29:33 +8 WORLDVIEW-2 (WV-2) set below 64°\n2020-10-19 14:42:33 +8 PLEIADES 1A rise above 64°\n2020-10-19 14:42:49 +8 PLEIADES 1A culminate\n2020-10-19 14:43:05 +8 PLEIADES 1A set below 64°\n2020-10-20 14:05:25 +8 SPOT 6 rise above 64°\n2020-10-20 14:06:00 +8 SPOT 6 culminate\n2020-10-20 14:06:35 +8 SPOT 6 set below 64°\n2020-10-20 14:17:39 +8 WORLDVIEW-2 (WV-2) rise above 64°\n2020-10-20 14:18:21 +8 WORLDVIEW-2 (WV-2) culminate\n2020-10-20 14:19:03 +8 WORLDVIEW-2 (WV-2) set below 64°\n2020-10-20 14:34:33 +8 PLEIADES 1B rise above 64°\n2020-10-20 14:35:16 +8 PLEIADES 1B culminate\n2020-10-20 14:35:58 +8 PLEIADES 1B set below 64°\n2020-10-21 13:59:37 +8 SPOT 7 rise above 64°\n2020-10-21 14:00:22 +8 SPOT 7 culminate\n2020-10-21 14:01:08 +8 SPOT 7 set below 64°\n2020-10-21 14:27:07 +8 PLEIADES 1A rise above 64°\n2020-10-21 14:27:50 +8 PLEIADES 1A culminate\n2020-10-21 14:28:35 +8 PLEIADES 1A set below 64°\n2020-10-21 14:30:46 +8 SENTINEL-2A rise above 85°\n2020-10-21 14:30:53 +8 SENTINEL-2A culminate\n2020-10-21 14:31:02 +8 SENTINEL-2A set below 85°\n2020-10-22 13:50:21 +8 SPOT 6 rise above 64°\n2020-10-22 13:50:59 +8 SPOT 6 culminate\n2020-10-22 13:51:37 +8 SPOT 6 set below 64°\n2020-10-22 14:19:50 +8 PLEIADES 1B rise above 64°\n2020-10-22 14:20:16 +8 PLEIADES 1B culminate\n2020-10-22 14:20:42 +8 PLEIADES 1B set below 64°\n2020-10-24 14:02:47 +8 SENTINEL-3A rise above 85°\n2020-10-24 14:02:51 +8 SENTINEL-3A culminate\n2020-10-24 14:02:57 +8 SENTINEL-3A set below 85°\n2020-10-25 14:33:18 +8 WORLDVIEW-2 (WV-2) rise above 64°\n2020-10-25 14:33:58 +8 WORLDVIEW-2 (WV-2) culminate\n2020-10-25 14:34:38 +8 WORLDVIEW-2 (WV-2) set below 64°\n2020-10-26 14:11:16 +8 SPOT 7 rise above 64°\n2020-10-26 14:11:35 +8 SPOT 7 culminate\n2020-10-26 14:11:54 +8 SPOT 7 set below 64°\n2020-10-26 14:30:46 +8 SENTINEL-2B rise above 85°\n2020-10-26 14:30:54 +8 SENTINEL-2B culminate\n2020-10-26 14:31:03 +8 SENTINEL-2B set below 85°\n2020-10-26 14:38:33 +8 PLEIADES 1A rise above 64°\n2020-10-26 14:39:07 +8 PLEIADES 1A culminate\n2020-10-26 14:39:41 +8 PLEIADES 1A set below 64°\n2020-10-27 14:01:28 +8 SPOT 6 rise above 64°\n2020-10-27 14:02:10 +8 SPOT 6 culminate\n2020-10-27 14:02:52 +8 SPOT 6 set below 64°\n2020-10-27 14:30:47 +8 PLEIADES 1B rise above 64°\n2020-10-27 14:31:12 +8 GEOEYE 1 rise above 85°\n2020-10-27 14:31:15 +8 GEOEYE 1 culminate\n2020-10-27 14:31:18 +8 GEOEYE 1 set below 85°\n2020-10-27 14:31:32 +8 PLEIADES 1B culminate\n2020-10-27 14:32:17 +8 PLEIADES 1B set below 64°\n2020-10-28 13:55:52 +8 SPOT 7 rise above 64°\n2020-10-28 13:56:35 +8 SPOT 7 culminate\n2020-10-28 13:57:19 +8 SPOT 7 set below 64°\n2020-10-28 13:59:03 +8 SENTINEL-3A rise above 85°\n2020-10-28 13:59:10 +8 SENTINEL-3A culminate\n2020-10-28 13:59:18 +8 SENTINEL-3A set below 85°\n2020-10-28 14:22:46 +8 WORLDVIEW-2 (WV-2) rise above 64°\n2020-10-28 14:23:29 +8 PLEIADES 1A rise above 64°\n2020-10-28 14:23:35 +8 WORLDVIEW-2 (WV-2) culminate\n2020-10-28 14:24:08 +8 PLEIADES 1A culminate\n2020-10-28 14:24:24 +8 WORLDVIEW-2 (WV-2) set below 64°\n2020-10-28 14:24:47 +8 PLEIADES 1A set below 64°\n2020-10-29 13:46:43 +8 SPOT 6 rise above 64°\n2020-10-29 13:47:08 +8 SPOT 6 culminate\n2020-10-29 13:47:34 +8 SPOT 6 set below 64°\n"
    }
   ],
   "source": [
    "overpasses = {}\n",
    "for name,satellite in platform_sats.items():\n",
    "    ak = [k for k in aquisition_angle.keys() if name.startswith(k)]\n",
    "    if len(ak) == 1:\n",
    "        ang = aquisition_angle[ak[0]]\n",
    "    else:\n",
    "        ang=5\n",
    "\n",
    "    altitude = 90-ang\n",
    "    t, events = satellite.find_events(jurien, t0, t1, altitude_degrees=altitude)\n",
    "    for ti, event in zip(t, events):\n",
    "        ev = (f'{name} rise above {altitude}°', f'{name} culminate', f'{name} set below {altitude}°')[event]\n",
    "        dt = ti.utc_datetime() + datetime.timedelta(hours=8)\n",
    "        if (dt.hour > 8) & (dt.hour < 16):\n",
    "            overpasses[dt.strftime('%Y-%m-%d %H:%M:%S') + f' +{utc_offset}'] = ev\n",
    "overpasses = dict(sorted(overpasses.items(), key=lambda item: item[0]))\n",
    "for t,e in overpasses.items():\n",
    "    print(f'{t} {e}')"
   ]
  }
 ],
 "metadata": {
  "kernelspec": {
   "display_name": "Python 3",
   "language": "python",
   "name": "python3"
  },
  "language_info": {
   "codemirror_mode": {
    "name": "ipython",
    "version": 3
   },
   "file_extension": ".py",
   "mimetype": "text/x-python",
   "name": "python",
   "nbconvert_exporter": "python",
   "pygments_lexer": "ipython3",
   "version": "3.7.6-final"
  }
 },
 "nbformat": 4,
 "nbformat_minor": 4
}